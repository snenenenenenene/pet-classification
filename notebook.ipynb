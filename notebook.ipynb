{
 "cells": [
  {
   "cell_type": "markdown",
   "metadata": {},
   "source": [
    "# Pet Prediction"
   ]
  },
  {
   "cell_type": "markdown",
   "metadata": {},
   "source": [
    "## Introduction\n",
    "\n",
    "It happens more often than not - especially to animal & pet lovers such as myself - that you come across the most beautiful dog while going for a walk in the park -- or whenever you're mindlessly scrolling Facebook for hours. This project is a digitalised manifestation of your gung ho dog breed connoisseur from around the corner. How? Through the means of **Machine Learning** (ML).\n",
    "The vast majority of blood, sweat and tears spent on researching and implementing the trained model will be documented by the use of the **Jupyter Notebook** you're currently reading.\n",
    "Nevertheless, to take into account the target audience and pragmatism of this implementation, I have chosen to pair the aforementioned notebook with a frontend developed in React in order to evade the convoluted process of having to manually import images into the model -- which is still an option if you're into self-loathing."
   ]
  },
  {
   "cell_type": "markdown",
   "metadata": {},
   "source": [
    "## Imports"
   ]
  },
  {
   "cell_type": "markdown",
   "metadata": {},
   "source": [
    "Your usual myriad of ML libraries were imported in this project such as:\n",
    "- Numpy (Arrays & matrices) \n",
    "- Pandas (Manage the arrays)\n",
    "- OS (Communication between your filesystem and python)\n",
    "- Matplotlib (Plotting graphs)\n",
    "- Tensorflow & Keras (Machine Learning)\n",
    "\n",
    "Other than these I have also imported some lesser known libraries, and modules especially, to adapt to the specific circumstances of this project. These being:\n",
    "- Preprocessing.image (Loading in images and transforming them into tensors)\n",
    "- Sklearn.metrics (Visualising & reporting the model's performance & efficiency)\n",
    "- Tensorflowjs (Exporting to a Javascript compatible model)"
   ]
  },
  {
   "cell_type": "code",
   "execution_count": 15,
   "metadata": {},
   "outputs": [],
   "source": [
    "import numpy as np\n",
    "import pandas as pd\n",
    "import os\n",
    "import json\n",
    "import matplotlib.pyplot as plt\n",
    "import tensorflow as tf\n",
    "from tensorflow.keras.utils import to_categorical\n",
    "from tensorflow.keras.preprocessing.image import load_img, img_to_array\n",
    "from tensorflow.python.keras.preprocessing.image import ImageDataGenerator\n",
    "from sklearn.metrics import classification_report, log_loss, accuracy_score\n",
    "from sklearn.model_selection import train_test_split\n",
    "import tensorflowjs as tfjs\n",
    "from tensorflow import keras"
   ]
  },
  {
   "cell_type": "markdown",
   "metadata": {},
   "source": [
    "## Setup"
   ]
  },
  {
   "cell_type": "markdown",
   "metadata": {},
   "source": [
    "In order to adhere to coding conventions and to avoid confusion further on in the project I have tactically split up the setup part of my code in order clarify some decisions I've made that other developers might not inherently also chose to do.\n",
    "The most notable section is the mapping section where I list every breed conform to the alphabetically stored folders with their correspondent names."
   ]
  },
  {
   "cell_type": "code",
   "execution_count": 16,
   "metadata": {},
   "outputs": [
    {
     "name": "stdout",
     "output_type": "stream",
     "text": [
      "{'wheaten_terrier': 0, 'great_pyrenees': 1, 'sphynx': 2, 'american_bulldog': 3, 'birman': 4, 'pomeranian': 5, 'american_pit_bull_terrier': 6, 'british_shorthair': 7, 'yorkshire_terrier': 8, 'japanese_chin': 9, 'english_cocker_spaniel': 10, 'miniature_pinscher': 11, 'basset_hound': 12, 'saint_bernard': 13, 'ragdoll': 14, 'chihuahua': 15, 'abyssinian': 16, 'newfoundland': 17, 'pug': 18, 'russian_blue': 19, 'siamese': 20, 'havanese': 21, 'bengal': 22, 'beagle': 23, 'german_shorthaired': 24, 'bombay': 25, 'staffordshire_bull_terrier': 26, 'samoyed': 27, 'scottish_terrier': 28, 'egyptian_mau': 29, 'leonberger': 30, 'maine_coon': 31, 'persian': 32, 'keeshond': 33, 'boxer': 34, 'english_setter': 35, 'shiba_inu': 36}\n"
     ]
    }
   ],
   "source": [
    "TRAIN = 'breeds/TRAIN'\n",
    "TEST = 'breeds/TEST'\n",
    "IMAGE_HEIGHT = 256\n",
    "IMAGE_WIDTH = 256\n",
    "EPOCH_CNT = 3\n",
    "\n",
    "dataset=[] \n",
    "name=[]\n",
    "count=0\n",
    "pet_dict=[]\n",
    "\n",
    "Name = os.listdir(TRAIN)\n",
    "N=list(range(len(Name)))\n",
    "mapping = dict(zip(Name, N))\n",
    "reverse_mapping = dict(zip(N, Name))\n",
    "\n",
    "print(mapping)"
   ]
  },
  {
   "cell_type": "markdown",
   "metadata": {},
   "source": [
    "## Data Cleaning & Processing\n",
    "\n"
   ]
  },
  {
   "cell_type": "markdown",
   "metadata": {},
   "source": [
    "As this project is almost entirely image based there quite simply isn't a lot of cleaning, imputation or processing to be done."
   ]
  },
  {
   "cell_type": "code",
   "execution_count": 17,
   "metadata": {},
   "outputs": [
    {
     "name": "stdout",
     "output_type": "stream",
     "text": [
      "(4712, 256, 256, 3)\n",
      "(1178, 256, 256, 3)\n",
      "(4712, 37)\n",
      "(1178, 37)\n"
     ]
    }
   ],
   "source": [
    "\n",
    "for file in sorted(os.listdir(TRAIN)):\n",
    "    path=os.path.join(TRAIN,file)\n",
    "    for im in os.listdir(path):\n",
    "        image=load_img(os.path.join(path,im), grayscale=False, color_mode='rgb', target_size=(IMAGE_HEIGHT,IMAGE_WIDTH))\n",
    "        image=img_to_array(image)\n",
    "        image=image/255.0\n",
    "        dataset.append([image,count])     \n",
    "    count=count+1\n",
    "test=[]\n",
    "testfile=[]\n",
    "\n",
    "for file in os.listdir(TEST):\n",
    "    path=os.path.join(TEST,file)\n",
    "    image=load_img(path, grayscale=False, color_mode='rgb', target_size=(IMAGE_HEIGHT,IMAGE_WIDTH))\n",
    "    image=img_to_array(image)\n",
    "    image=image/255.0\n",
    "    test+=[image]\n",
    "    testfile+=[file]\n",
    "data,labels0=zip(*dataset)\n",
    "labels1=to_categorical(labels0)\n",
    "labels=np.array(labels1)\n",
    "data=np.array(data)\n",
    "test=np.array(test)\n",
    "data2=data.reshape(-1,IMAGE_HEIGHT,IMAGE_WIDTH,3)\n",
    "test2=test.reshape(-1,IMAGE_HEIGHT,IMAGE_WIDTH,3)\n",
    "trainx,testx,trainy,testy=train_test_split(data,labels,test_size=0.2,random_state=44)\n",
    "print(trainx.shape)\n",
    "print(testx.shape)\n",
    "print(trainy.shape)\n",
    "print(testy.shape)"
   ]
  },
  {
   "cell_type": "markdown",
   "metadata": {},
   "source": [
    "## Training Model"
   ]
  },
  {
   "cell_type": "markdown",
   "metadata": {},
   "source": [
    "In order to actually train the algorithm we'll make use of [**Densely Connected Convolutional Networks**](https://arxiv.org/abs/1608.06993) (DCCN). To go about this in a comprehensive and easy to use manner, we'll be implementing said DCCN using a Keras module which we've imported in one of the former stages of this document. "
   ]
  },
  {
   "cell_type": "code",
   "execution_count": 18,
   "metadata": {},
   "outputs": [
    {
     "name": "stdout",
     "output_type": "stream",
     "text": [
      "Epoch 1/3\n"
     ]
    },
    {
     "name": "stderr",
     "output_type": "stream",
     "text": [
      "2021-11-18 17:00:27.709782: I tensorflow/core/grappler/optimizers/custom_graph_optimizer_registry.cc:112] Plugin optimizer for device_type GPU is enabled.\n"
     ]
    },
    {
     "name": "stdout",
     "output_type": "stream",
     "text": [
      "148/148 [==============================] - ETA: 0s - loss: 2.1349 - accuracy: 0.4291"
     ]
    },
    {
     "name": "stderr",
     "output_type": "stream",
     "text": [
      "2021-11-18 17:01:12.537380: I tensorflow/core/grappler/optimizers/custom_graph_optimizer_registry.cc:112] Plugin optimizer for device_type GPU is enabled.\n"
     ]
    },
    {
     "name": "stdout",
     "output_type": "stream",
     "text": [
      "148/148 [==============================] - 55s 338ms/step - loss: 2.1349 - accuracy: 0.4291 - val_loss: 0.7857 - val_accuracy: 0.7691\n",
      "Epoch 2/3\n",
      "148/148 [==============================] - 39s 262ms/step - loss: 1.0246 - accuracy: 0.6919 - val_loss: 0.5298 - val_accuracy: 0.8447\n",
      "Epoch 3/3\n",
      "148/148 [==============================] - 42s 280ms/step - loss: 0.8060 - accuracy: 0.7549 - val_loss: 0.4707 - val_accuracy: 0.8396\n"
     ]
    }
   ],
   "source": [
    "datagen = ImageDataGenerator(horizontal_flip=True, vertical_flip=True, rotation_range=20, zoom_range=0.2,\n",
    "                             width_shift_range=0.2, height_shift_range=0.2, shear_range=0.1, fill_mode=\"nearest\")\n",
    "\n",
    "pretrained_model = tf.keras.applications.DenseNet121(input_shape=(\n",
    "    IMAGE_HEIGHT, IMAGE_WIDTH, 3), include_top=False, weights='imagenet', pooling='avg')\n",
    "\n",
    "pretrained_model.trainable = False\n",
    "\n",
    "inputs = pretrained_model.input\n",
    "x3 = tf.keras.layers.Dense(128, activation='relu')(pretrained_model.output)\n",
    "outputs = tf.keras.layers.Dense(37, activation='softmax')(x3)\n",
    "model = tf.keras.Model(inputs=inputs, outputs=outputs)\n",
    "\n",
    "model.compile(optimizer='adam', loss='categorical_crossentropy',\n",
    "              metrics=['accuracy'])\n",
    "\n",
    "his = model.fit(datagen.flow(trainx, trainy, batch_size=32),\n",
    "                validation_data=(testx, testy), epochs=EPOCH_CNT)"
   ]
  },
  {
   "cell_type": "markdown",
   "metadata": {},
   "source": [
    "## Model Fitness\n",
    "\n",
    "In order to fathom the efficiency and as to how our newly born model performs we will be using a couple of built-in modules and functions from the Sklearn package. \n",
    "Previously the trained model is stored in the \"his\" variable. After going through the various learning cycles its accuracy and loss data are then stored in sepperate new variables and are then plotted in the next section. "
   ]
  },
  {
   "cell_type": "code",
   "execution_count": 19,
   "metadata": {},
   "outputs": [
    {
     "name": "stderr",
     "output_type": "stream",
     "text": [
      "2021-11-18 17:02:41.987657: I tensorflow/core/grappler/optimizers/custom_graph_optimizer_registry.cc:112] Plugin optimizer for device_type GPU is enabled.\n"
     ]
    },
    {
     "name": "stdout",
     "output_type": "stream",
     "text": [
      "              precision    recall  f1-score   support\n",
      "\n",
      "           0       0.93      0.59      0.72        22\n",
      "           1       0.73      0.73      0.73        33\n",
      "           2       0.58      0.62      0.60        29\n",
      "           3       0.89      0.77      0.83        31\n",
      "           4       0.83      0.89      0.86        27\n",
      "           5       0.80      0.89      0.84        36\n",
      "           6       0.57      0.97      0.72        40\n",
      "           7       0.75      0.97      0.85        31\n",
      "           8       0.71      0.88      0.79        40\n",
      "           9       0.80      0.67      0.73        30\n",
      "          10       1.00      0.65      0.78        31\n",
      "          11       0.84      0.87      0.86        31\n",
      "          12       0.74      0.89      0.81        28\n",
      "          13       0.92      0.94      0.93        35\n",
      "          14       1.00      0.71      0.83        35\n",
      "          15       0.97      0.94      0.96        34\n",
      "          16       0.90      0.85      0.88        33\n",
      "          17       0.97      1.00      0.98        31\n",
      "          18       0.97      0.97      0.97        30\n",
      "          19       1.00      0.83      0.91        41\n",
      "          20       0.91      0.62      0.74        34\n",
      "          21       0.80      0.94      0.87        35\n",
      "          22       0.86      0.97      0.91        32\n",
      "          23       0.70      1.00      0.82        30\n",
      "          24       0.96      0.96      0.96        25\n",
      "          25       1.00      0.95      0.98        22\n",
      "          26       0.93      0.42      0.58        31\n",
      "          27       0.79      0.59      0.68        32\n",
      "          28       0.96      0.87      0.91        30\n",
      "          29       0.85      1.00      0.92        28\n",
      "          30       0.97      0.92      0.94        37\n",
      "          31       0.90      0.95      0.92        38\n",
      "          32       0.88      0.70      0.78        43\n",
      "          33       1.00      1.00      1.00        35\n",
      "          34       0.56      0.66      0.60        29\n",
      "          35       0.95      0.95      0.95        21\n",
      "          36       0.93      0.93      0.93        28\n",
      "\n",
      "    accuracy                           0.84      1178\n",
      "   macro avg       0.86      0.84      0.84      1178\n",
      "weighted avg       0.86      0.84      0.84      1178\n",
      "\n"
     ]
    }
   ],
   "source": [
    "y_pred = model.predict(testx)\n",
    "pred = np.argmax(y_pred, axis=1)\n",
    "ground = np.argmax(testy, axis=1)\n",
    "print(classification_report(ground, pred))\n",
    "\n",
    "get_acc = his.history['accuracy']\n",
    "value_acc = his.history['val_accuracy']\n",
    "get_loss = his.history['loss']\n",
    "validation_loss = his.history['val_loss']"
   ]
  },
  {
   "cell_type": "markdown",
   "metadata": {},
   "source": [
    "## Accuracy"
   ]
  },
  {
   "cell_type": "code",
   "execution_count": 20,
   "metadata": {},
   "outputs": [
    {
     "data": {
      "image/png": "[encoded data removed]",
      "text/plain": [
       "<Figure size 432x288 with 1 Axes>"
      ]
     },
     "metadata": {
      "needs_background": "light"
     },
     "output_type": "display_data"
    },
    {
     "data": {
      "text/plain": [
       "<Figure size 432x288 with 0 Axes>"
      ]
     },
     "metadata": {},
     "output_type": "display_data"
    }
   ],
   "source": [
    "epochs = range(len(get_acc))\n",
    "plt.plot(epochs, get_acc, 'r', label='Accuracy of Training data')\n",
    "plt.plot(epochs, value_acc, 'b', label='Accuracy of Validation data')\n",
    "plt.title('Training vs validation accuracy')\n",
    "plt.legend(loc=0)\n",
    "plt.figure()\n",
    "plt.show()"
   ]
  },
  {
   "cell_type": "markdown",
   "metadata": {},
   "source": [
    "## Loss"
   ]
  },
  {
   "cell_type": "code",
   "execution_count": 21,
   "metadata": {},
   "outputs": [
    {
     "data": {
      "image/png": "[encoded data removed]",
      "text/plain": [
       "<Figure size 432x288 with 1 Axes>"
      ]
     },
     "metadata": {
      "needs_background": "light"
     },
     "output_type": "display_data"
    },
    {
     "data": {
      "text/plain": [
       "<Figure size 432x288 with 0 Axes>"
      ]
     },
     "metadata": {},
     "output_type": "display_data"
    }
   ],
   "source": [
    "epochs = range(len(get_loss))\n",
    "plt.plot(epochs, get_loss, 'r', label='Loss of Training data')\n",
    "plt.plot(epochs, validation_loss, 'b', label='Loss of Validation data')\n",
    "plt.title('Training vs validation loss')\n",
    "plt.legend(loc=0)\n",
    "plt.figure()\n",
    "plt.show()"
   ]
  },
  {
   "cell_type": "markdown",
   "metadata": {},
   "source": [
    "## Proof testing"
   ]
  },
  {
   "cell_type": "markdown",
   "metadata": {},
   "source": [
    "This section is quite possibly the most gratifying part of this entire project. Sometimes at least. \n",
    "Firstly, we declare the reverse mapping of breeds (see #Setup) to then map the different representations of breeds - using integers - to their respective indeces. A random is then loaded in and passed to the model."
   ]
  },
  {
   "cell_type": "code",
   "execution_count": 25,
   "metadata": {},
   "outputs": [],
   "source": [
    "image=load_img(\"breeds/TRAIN/beagle/104.jpg\",target_size=(256,256))\n",
    "image\n",
    "\n",
    "model = keras.models.load_model('models/model1.h5')\n",
    "\n",
    "\n",
    "image=img_to_array(image) \n",
    "image=image/255.0\n",
    "prediction_image=np.array(image)\n",
    "prediction_image= np.expand_dims(image, axis=0)\n",
    "\n",
    "def mapper(value):\n",
    "    return reverse_mapping[value]"
   ]
  },
  {
   "cell_type": "markdown",
   "metadata": {},
   "source": [
    "## Prediction"
   ]
  },
  {
   "cell_type": "code",
   "execution_count": 26,
   "metadata": {},
   "outputs": [
    {
     "name": "stdout",
     "output_type": "stream",
     "text": [
      "[[[[0.5176471  0.47058824 0.4862745 ]\n",
      "   [0.5058824  0.48235294 0.49019608]\n",
      "   [0.49803922 0.4745098  0.48235294]\n",
      "   ...\n",
      "   [0.14117648 0.09411765 0.09411765]\n",
      "   [0.12941177 0.08235294 0.08235294]\n",
      "   [0.13725491 0.09019608 0.09019608]]\n",
      "\n",
      "  [[0.5254902  0.47843137 0.49411765]\n",
      "   [0.5019608  0.47843137 0.4862745 ]\n",
      "   [0.4862745  0.4627451  0.47058824]\n",
      "   ...\n",
      "   [0.14117648 0.09803922 0.09019608]\n",
      "   [0.14117648 0.09411765 0.09411765]\n",
      "   [0.12941177 0.08235294 0.08235294]]\n",
      "\n",
      "  [[0.52156866 0.4745098  0.49019608]\n",
      "   [0.49019608 0.46666667 0.4745098 ]\n",
      "   [0.49019608 0.46666667 0.4745098 ]\n",
      "   ...\n",
      "   [0.14117648 0.09803922 0.08235294]\n",
      "   [0.14117648 0.09803922 0.08235294]\n",
      "   [0.10588235 0.0627451  0.04705882]]\n",
      "\n",
      "  ...\n",
      "\n",
      "  [[0.40784314 0.4117647  0.42745098]\n",
      "   [0.3764706  0.36862746 0.37254903]\n",
      "   [0.32156864 0.29411766 0.32156864]\n",
      "   ...\n",
      "   [0.8392157  0.85882354 0.87058824]\n",
      "   [0.84705883 0.8666667  0.8784314 ]\n",
      "   [0.8392157  0.85490197 0.8901961 ]]\n",
      "\n",
      "  [[0.3019608  0.29803923 0.28235295]\n",
      "   [0.29803923 0.2627451  0.26666668]\n",
      "   [0.27450982 0.24313726 0.23529412]\n",
      "   ...\n",
      "   [0.84705883 0.8666667  0.8784314 ]\n",
      "   [0.8392157  0.85882354 0.8745098 ]\n",
      "   [0.8352941  0.8509804  0.8862745 ]]\n",
      "\n",
      "  [[0.28627452 0.26666668 0.24313726]\n",
      "   [0.32941177 0.2901961  0.28235295]\n",
      "   [0.3529412  0.3137255  0.30588236]\n",
      "   ...\n",
      "   [0.827451   0.84705883 0.85882354]\n",
      "   [0.8235294  0.84313726 0.85882354]\n",
      "   [0.81960785 0.8352941  0.87058824]]]]\n"
     ]
    },
    {
     "name": "stderr",
     "output_type": "stream",
     "text": [
      "2021-11-18 17:03:37.271682: I tensorflow/core/grappler/optimizers/custom_graph_optimizer_registry.cc:112] Plugin optimizer for device_type GPU is enabled.\n"
     ]
    },
    {
     "name": "stdout",
     "output_type": "stream",
     "text": [
      "Prediction is Beagle.\n"
     ]
    }
   ],
   "source": [
    "# PREDICTION\n",
    "print(prediction_image)\n",
    "prediction=model.predict(prediction_image)\n",
    "value=np.argmax(prediction)\n",
    "move_name=mapper(value)\n",
    "print(f\"Prediction is {format(move_name).capitalize()}.\")"
   ]
  },
  {
   "cell_type": "markdown",
   "metadata": {},
   "source": [
    "## Serialisation"
   ]
  },
  {
   "cell_type": "markdown",
   "metadata": {},
   "source": [
    "In order to make use of the functionality of the model it will be serialised as well as converted into a model which is able to be interpreted by the aforementioned React app. The TensorflowJS converter module will split up the model into one model.json as well as various weight files which will add their respective weights to the breeds. After this is done and dusted it is ready to be pushed straight to github in order for the raw model.json file to receive GET-requests."
   ]
  },
  {
   "cell_type": "code",
   "execution_count": 27,
   "metadata": {},
   "outputs": [
    {
     "ename": "NameError",
     "evalue": "name 'json' is not defined",
     "output_type": "error",
     "traceback": [
      "\u001b[0;31m---------------------------------------------------------------------------\u001b[0m",
      "\u001b[0;31mNameError\u001b[0m                                 Traceback (most recent call last)",
      "\u001b[0;32m/var/folders/yh/kcqcvv194vgf79tlydyy5n2w0000gn/T/ipykernel_6481/1793823652.py\u001b[0m in \u001b[0;36m<module>\u001b[0;34m\u001b[0m\n\u001b[1;32m      1\u001b[0m \u001b[0;31m#Uncomment to save model & to export it to a tsjs compatible format.\u001b[0m\u001b[0;34m\u001b[0m\u001b[0;34m\u001b[0m\u001b[0m\n\u001b[1;32m      2\u001b[0m \u001b[0;32mwith\u001b[0m \u001b[0mopen\u001b[0m\u001b[0;34m(\u001b[0m\u001b[0;34m'frontend/src/data/mapping.json'\u001b[0m\u001b[0;34m,\u001b[0m \u001b[0;34m'w'\u001b[0m\u001b[0;34m)\u001b[0m \u001b[0;32mas\u001b[0m \u001b[0mmapping\u001b[0m\u001b[0;34m:\u001b[0m\u001b[0;34m\u001b[0m\u001b[0;34m\u001b[0m\u001b[0m\n\u001b[0;32m----> 3\u001b[0;31m     \u001b[0mjson\u001b[0m\u001b[0;34m.\u001b[0m\u001b[0mdump\u001b[0m\u001b[0;34m(\u001b[0m\u001b[0mreverse_mapping\u001b[0m\u001b[0;34m,\u001b[0m \u001b[0mmapping\u001b[0m\u001b[0;34m)\u001b[0m\u001b[0;34m\u001b[0m\u001b[0;34m\u001b[0m\u001b[0m\n\u001b[0m\u001b[1;32m      4\u001b[0m \u001b[0;34m\u001b[0m\u001b[0m\n\u001b[1;32m      5\u001b[0m \u001b[0mmodel\u001b[0m\u001b[0;34m.\u001b[0m\u001b[0msave\u001b[0m\u001b[0;34m(\u001b[0m\u001b[0;34m'models/model1.h5'\u001b[0m\u001b[0;34m)\u001b[0m\u001b[0;34m\u001b[0m\u001b[0;34m\u001b[0m\u001b[0m\n",
      "\u001b[0;31mNameError\u001b[0m: name 'json' is not defined"
     ]
    }
   ],
   "source": [
    "#Uncomment to save model & to export it to a tsjs compatible format.\n",
    "with open('frontend/src/data/mapping.json', 'w') as mapping:\n",
    "    json.dump(reverse_mapping, mapping)\n",
    "\n",
    "model.save('models/model1.h5')\n",
    "tfjs.converters.save_keras_model(model, 'models/tfjs')"
   ]
  },
  {
   "cell_type": "markdown",
   "metadata": {},
   "source": [
    "## Conclusion"
   ]
  },
  {
   "cell_type": "markdown",
   "metadata": {},
   "source": [
    "## Bronvermelding"
   ]
  }
 ],
 "metadata": {
  "interpreter": {
   "hash": "31f2aee4e71d21fbe5cf8b01ff0e069b9275f58929596ceb00d14d90e3e16cd6"
  },
  "kernelspec": {
   "display_name": "Python 3.9.5 64-bit",
   "name": "python3"
  },
  "language_info": {
   "codemirror_mode": {
    "name": "ipython",
    "version": 3
   },
   "file_extension": ".py",
   "mimetype": "text/x-python",
   "name": "python",
   "nbconvert_exporter": "python",
   "pygments_lexer": "ipython3",
   "version": "3.9.7"
  },
  "orig_nbformat": 4
 },
 "nbformat": 4,
 "nbformat_minor": 2
}
