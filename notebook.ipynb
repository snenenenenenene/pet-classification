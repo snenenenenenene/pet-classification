{
 "cells": [
  {
   "cell_type": "markdown",
   "metadata": {},
   "source": [
    "# Pet Prediction"
   ]
  },
  {
   "cell_type": "markdown",
   "metadata": {},
   "source": [
    "## Introduction\n",
    "\n",
    "It happens more often than not - especially to animal & pet lovers such as myself - that you come across the most beautiful dog while going for a walk in the park -- or whenever you're mindlessly scrolling Facebook for hours. This project is a digitalised manifestation of your gung ho dog breed connoisseur from around the corner. How? Through the means of **Machine Learning** (ML).\n",
    "The vast majority of blood, sweat and tears spent on researching and implementing the trained model will be documented by the use of the **Jupyter Notebook** you're currently reading.\n",
    "Nevertheless, to take into account the target audience and pragmatism of this implementation, I have chosen to pair the aforementioned notebook with a frontend developed in React in order to evade the convoluted process of having to manually import images into the model -- which is still an option if you're into self-loathing."
   ]
  },
  {
   "cell_type": "markdown",
   "metadata": {},
   "source": [
    "## Imports"
   ]
  },
  {
   "cell_type": "markdown",
   "metadata": {},
   "source": [
    "Your usual myriad of ML libraries were imported in this project such as:\n",
    "- Numpy (Arrays & matrices) \n",
    "- Pandas (Manage the arrays)\n",
    "- OS (Communication between your filesystem and python)\n",
    "- Matplotlib (Plotting graphs)\n",
    "- Tensorflow & Keras (Machine Learning)\n",
    "\n",
    "Other than these I have also imported some lesser known libraries, and modules especially, to adapt to the specific circumstances of this project. These being:\n",
    "- Preprocessing.image (Loading in images and transforming them into tensors)\n",
    "- Sklearn.metrics (Visualising & reporting the model's performance & efficiency)\n",
    "- Tensorflowjs (Exporting to a Javascript compatible model)"
   ]
  },
  {
   "cell_type": "code",
   "execution_count": 7,
   "metadata": {},
   "outputs": [],
   "source": [
    "import numpy as np\n",
    "import pandas as pd\n",
    "import os\n",
    "import matplotlib.pyplot as plt\n",
    "import tensorflow as tf\n",
    "from tensorflow.keras.utils import to_categorical\n",
    "from tensorflow.keras.preprocessing.image import load_img, img_to_array\n",
    "from tensorflow.python.keras.preprocessing.image import ImageDataGenerator\n",
    "from sklearn.metrics import classification_report, log_loss, accuracy_score\n",
    "from sklearn.model_selection import train_test_split\n",
    "import tensorflowjs as tfjs\n",
    "from tensorflow import keras"
   ]
  },
  {
   "cell_type": "markdown",
   "metadata": {},
   "source": [
    "## Setup"
   ]
  },
  {
   "cell_type": "markdown",
   "metadata": {},
   "source": [
    "In order to adhere to coding conventions and to avoid confusion further on in the project I have tactically split up the setup part of my code in order clarify some decisions I've made that other developers might not inherently also chose to do.\n",
    "The most notable section is the mapping section where I list every breed conform to the alphabetically stored folders with their correspondent names."
   ]
  },
  {
   "cell_type": "code",
   "execution_count": 11,
   "metadata": {},
   "outputs": [
    {
     "name": "stdout",
     "output_type": "stream",
     "text": [
      "['abyssinian', 'american_bulldog', 'american_pit_bull_terrier', 'basset_hound', 'beagle', 'bengal', 'birman', 'bombay', 'boxer', 'british_shorthair', 'chihuahua', 'egyptian_mau', 'english_cocker_spaniel', 'english_setter', 'german_shorthaired', 'great_pyrenees', 'havanese', 'japanese_chin', 'keeshond', 'leonberger', 'maine_coon', 'miniature_pinscher', 'newfoundland', 'persian', 'pomeranian', 'pug', 'ragdoll', 'russian_blue', 'saint_bernard', 'samoyed', 'scottish_terrier', 'shiba_inu', 'siamese', 'sphynx', 'staffordshire_bull_terrier', 'wheaten_terrier', 'yorkshire_terrier']\n"
     ]
    }
   ],
   "source": [
    "TRAIN = 'breeds/TRAIN'\n",
    "TEST = 'breeds/TEST'\n",
    "IMAGE_HEIGHT = 256\n",
    "IMAGE_WIDTH = 256\n",
    "EPOCH_CNT = 30\n",
    "\n",
    "dataset=[] \n",
    "name=[]\n",
    "count=0\n",
    "pet_dict=[]\n",
    "\n",
    "for file in sorted(os.listdir(TRAIN)):\n",
    "    pet_dict+=[file]\n",
    "\n",
    "mapping={\n",
    "\t\"abyssinian\": 0,\n",
    "\t\"american_bulldog\": 1,\n",
    "\t\"american_pit_bull_terrier\": 2,\n",
    "\t\"basset_hound\": 3,\n",
    "\t\"beagle\": 4,\n",
    "\t\"bengal\": 5,\n",
    "\t\"birman\": 6,\n",
    "\t\"bombay\": 7,\n",
    "\t\"boxer\": 8,\n",
    "\t\"british_shorthair\": 9,\n",
    "\t\"chihuahua\": 10,\n",
    "\t\"egyptian_mau\": 11,\n",
    "\t\"english_cocker_spaniel\": 12,\n",
    "\t\"english_setter\": 13,\n",
    "\t\"german_shorthaired\": 14,\n",
    "\t\"great_pyrenees\": 15,\n",
    "\t\"havanese\": 16,\n",
    "\t\"japanese_chin\": 17,\n",
    "\t\"keeshond\": 18,\n",
    "\t\"leonberger\": 19,\n",
    "\t\"maine_coon\": 20,\n",
    "\t\"miniature_pinscher\": 21,\n",
    "\t\"newfoundland\": 22,\n",
    "\t\"persian\": 23,\n",
    "\t\"pomeranian\": 24,\n",
    "\t\"pug\": 25,\n",
    "\t\"ragdoll\": 26,\n",
    "\t\"russian_blue\": 27,\n",
    "\t\"saint_bernard\": 28,\n",
    "\t\"samoyed\": 29,\n",
    "\t\"scottish_terrier\": 30,\n",
    "\t\"shiba_inu\": 31,\n",
    "\t\"siamese\": 32,\n",
    "\t\"sphynx\": 33,\n",
    "\t\"staffordshire_bull_terrier\": 34,\n",
    "\t\"wheaten_terrier\": 35,\n",
    "\t\"yorkshire_terrier\": 36,\n",
    "}\n",
    "\n",
    "print(pet_dict)"
   ]
  },
  {
   "cell_type": "markdown",
   "metadata": {},
   "source": [
    "## Data Cleaning & Processing\n",
    "\n"
   ]
  },
  {
   "cell_type": "markdown",
   "metadata": {},
   "source": [
    "As this project is almost entirely image based there quite simply isn't a lot of cleaning, imputation or processing to be done."
   ]
  },
  {
   "cell_type": "code",
   "execution_count": 12,
   "metadata": {},
   "outputs": [
    {
     "name": "stdout",
     "output_type": "stream",
     "text": [
      "(4712, 256, 256, 3)\n",
      "(1178, 256, 256, 3)\n",
      "(4712, 37)\n",
      "(1178, 37)\n"
     ]
    }
   ],
   "source": [
    "\n",
    "for file in sorted(os.listdir(TRAIN)):\n",
    "    path=os.path.join(TRAIN,file)\n",
    "    for im in os.listdir(path):\n",
    "        image=load_img(os.path.join(path,im), grayscale=False, color_mode='rgb', target_size=(IMAGE_HEIGHT,IMAGE_WIDTH))\n",
    "        image=img_to_array(image)\n",
    "        image=image/255.0\n",
    "        dataset.append([image,count])     \n",
    "    count=count+1\n",
    "test=[]\n",
    "testfile=[]\n",
    "\n",
    "for file in os.listdir(TEST):\n",
    "    path=os.path.join(TEST,file)\n",
    "    image=load_img(path, grayscale=False, color_mode='rgb', target_size=(IMAGE_HEIGHT,IMAGE_WIDTH))\n",
    "    image=img_to_array(image)\n",
    "    image=image/255.0\n",
    "    test+=[image]\n",
    "    testfile+=[file]\n",
    "data,labels0=zip(*dataset)\n",
    "labels1=to_categorical(labels0)\n",
    "labels=np.array(labels1)\n",
    "data=np.array(data)\n",
    "test=np.array(test)\n",
    "data2=data.reshape(-1,IMAGE_HEIGHT,IMAGE_WIDTH,3)\n",
    "test2=test.reshape(-1,IMAGE_HEIGHT,IMAGE_WIDTH,3)\n",
    "trainx,testx,trainy,testy=train_test_split(data,labels,test_size=0.2,random_state=44)\n",
    "print(trainx.shape)\n",
    "print(testx.shape)\n",
    "print(trainy.shape)\n",
    "print(testy.shape)"
   ]
  },
  {
   "cell_type": "markdown",
   "metadata": {},
   "source": [
    "## Training Model"
   ]
  },
  {
   "cell_type": "markdown",
   "metadata": {},
   "source": [
    "In order to actually train the algorithm we'll make use of [**Densely Connected Convolutional Networks**](https://arxiv.org/abs/1608.06993) (DCCN). To go about this in a comprehensive and easy to use manner, we'll be implementing said DCCN using a Keras module which we've imported in one of the former stages of this document. "
   ]
  },
  {
   "cell_type": "code",
   "execution_count": 13,
   "metadata": {},
   "outputs": [
    {
     "name": "stdout",
     "output_type": "stream",
     "text": [
      "Epoch 1/30\n"
     ]
    },
    {
     "name": "stderr",
     "output_type": "stream",
     "text": [
      "2021-11-18 16:15:13.565337: I tensorflow/core/grappler/optimizers/custom_graph_optimizer_registry.cc:112] Plugin optimizer for device_type GPU is enabled.\n"
     ]
    },
    {
     "name": "stdout",
     "output_type": "stream",
     "text": [
      "148/148 [==============================] - ETA: 0s - loss: 2.1390 - accuracy: 0.4302"
     ]
    },
    {
     "name": "stderr",
     "output_type": "stream",
     "text": [
      "2021-11-18 16:15:54.646258: I tensorflow/core/grappler/optimizers/custom_graph_optimizer_registry.cc:112] Plugin optimizer for device_type GPU is enabled.\n"
     ]
    },
    {
     "name": "stdout",
     "output_type": "stream",
     "text": [
      "148/148 [==============================] - 51s 311ms/step - loss: 2.1390 - accuracy: 0.4302 - val_loss: 0.8270 - val_accuracy: 0.7699\n",
      "Epoch 2/30\n",
      "121/148 [=======================>......] - ETA: 5s - loss: 1.0361 - accuracy: 0.6970"
     ]
    },
    {
     "ename": "KeyboardInterrupt",
     "evalue": "",
     "output_type": "error",
     "traceback": [
      "\u001b[0;31m---------------------------------------------------------------------------\u001b[0m",
      "\u001b[0;31mKeyboardInterrupt\u001b[0m                         Traceback (most recent call last)",
      "\u001b[0;32m/var/folders/yh/kcqcvv194vgf79tlydyy5n2w0000gn/T/ipykernel_5855/2849461353.py\u001b[0m in \u001b[0;36m<module>\u001b[0;34m\u001b[0m\n\u001b[1;32m     15\u001b[0m               metrics=['accuracy'])\n\u001b[1;32m     16\u001b[0m \u001b[0;34m\u001b[0m\u001b[0m\n\u001b[0;32m---> 17\u001b[0;31m his = model.fit(datagen.flow(trainx, trainy, batch_size=32),\n\u001b[0m\u001b[1;32m     18\u001b[0m                 validation_data=(testx, testy), epochs=EPOCH_CNT)\n",
      "\u001b[0;32m~/miniforge3/envs/tensorflow/lib/python3.9/site-packages/tensorflow/python/keras/engine/training.py\u001b[0m in \u001b[0;36mfit\u001b[0;34m(self, x, y, batch_size, epochs, verbose, callbacks, validation_split, validation_data, shuffle, class_weight, sample_weight, initial_epoch, steps_per_epoch, validation_steps, validation_batch_size, validation_freq, max_queue_size, workers, use_multiprocessing)\u001b[0m\n\u001b[1;32m   1181\u001b[0m                 _r=1):\n\u001b[1;32m   1182\u001b[0m               \u001b[0mcallbacks\u001b[0m\u001b[0;34m.\u001b[0m\u001b[0mon_train_batch_begin\u001b[0m\u001b[0;34m(\u001b[0m\u001b[0mstep\u001b[0m\u001b[0;34m)\u001b[0m\u001b[0;34m\u001b[0m\u001b[0;34m\u001b[0m\u001b[0m\n\u001b[0;32m-> 1183\u001b[0;31m               \u001b[0mtmp_logs\u001b[0m \u001b[0;34m=\u001b[0m \u001b[0mself\u001b[0m\u001b[0;34m.\u001b[0m\u001b[0mtrain_function\u001b[0m\u001b[0;34m(\u001b[0m\u001b[0miterator\u001b[0m\u001b[0;34m)\u001b[0m\u001b[0;34m\u001b[0m\u001b[0;34m\u001b[0m\u001b[0m\n\u001b[0m\u001b[1;32m   1184\u001b[0m               \u001b[0;32mif\u001b[0m \u001b[0mdata_handler\u001b[0m\u001b[0;34m.\u001b[0m\u001b[0mshould_sync\u001b[0m\u001b[0;34m:\u001b[0m\u001b[0;34m\u001b[0m\u001b[0;34m\u001b[0m\u001b[0m\n\u001b[1;32m   1185\u001b[0m                 \u001b[0mcontext\u001b[0m\u001b[0;34m.\u001b[0m\u001b[0masync_wait\u001b[0m\u001b[0;34m(\u001b[0m\u001b[0;34m)\u001b[0m\u001b[0;34m\u001b[0m\u001b[0;34m\u001b[0m\u001b[0m\n",
      "\u001b[0;32m~/miniforge3/envs/tensorflow/lib/python3.9/site-packages/tensorflow/python/eager/def_function.py\u001b[0m in \u001b[0;36m__call__\u001b[0;34m(self, *args, **kwds)\u001b[0m\n\u001b[1;32m    887\u001b[0m \u001b[0;34m\u001b[0m\u001b[0m\n\u001b[1;32m    888\u001b[0m       \u001b[0;32mwith\u001b[0m \u001b[0mOptionalXlaContext\u001b[0m\u001b[0;34m(\u001b[0m\u001b[0mself\u001b[0m\u001b[0;34m.\u001b[0m\u001b[0m_jit_compile\u001b[0m\u001b[0;34m)\u001b[0m\u001b[0;34m:\u001b[0m\u001b[0;34m\u001b[0m\u001b[0;34m\u001b[0m\u001b[0m\n\u001b[0;32m--> 889\u001b[0;31m         \u001b[0mresult\u001b[0m \u001b[0;34m=\u001b[0m \u001b[0mself\u001b[0m\u001b[0;34m.\u001b[0m\u001b[0m_call\u001b[0m\u001b[0;34m(\u001b[0m\u001b[0;34m*\u001b[0m\u001b[0margs\u001b[0m\u001b[0;34m,\u001b[0m \u001b[0;34m**\u001b[0m\u001b[0mkwds\u001b[0m\u001b[0;34m)\u001b[0m\u001b[0;34m\u001b[0m\u001b[0;34m\u001b[0m\u001b[0m\n\u001b[0m\u001b[1;32m    890\u001b[0m \u001b[0;34m\u001b[0m\u001b[0m\n\u001b[1;32m    891\u001b[0m       \u001b[0mnew_tracing_count\u001b[0m \u001b[0;34m=\u001b[0m \u001b[0mself\u001b[0m\u001b[0;34m.\u001b[0m\u001b[0mexperimental_get_tracing_count\u001b[0m\u001b[0;34m(\u001b[0m\u001b[0;34m)\u001b[0m\u001b[0;34m\u001b[0m\u001b[0;34m\u001b[0m\u001b[0m\n",
      "\u001b[0;32m~/miniforge3/envs/tensorflow/lib/python3.9/site-packages/tensorflow/python/eager/def_function.py\u001b[0m in \u001b[0;36m_call\u001b[0;34m(self, *args, **kwds)\u001b[0m\n\u001b[1;32m    915\u001b[0m       \u001b[0;31m# In this case we have created variables on the first call, so we run the\u001b[0m\u001b[0;34m\u001b[0m\u001b[0;34m\u001b[0m\u001b[0m\n\u001b[1;32m    916\u001b[0m       \u001b[0;31m# defunned version which is guaranteed to never create variables.\u001b[0m\u001b[0;34m\u001b[0m\u001b[0;34m\u001b[0m\u001b[0m\n\u001b[0;32m--> 917\u001b[0;31m       \u001b[0;32mreturn\u001b[0m \u001b[0mself\u001b[0m\u001b[0;34m.\u001b[0m\u001b[0m_stateless_fn\u001b[0m\u001b[0;34m(\u001b[0m\u001b[0;34m*\u001b[0m\u001b[0margs\u001b[0m\u001b[0;34m,\u001b[0m \u001b[0;34m**\u001b[0m\u001b[0mkwds\u001b[0m\u001b[0;34m)\u001b[0m  \u001b[0;31m# pylint: disable=not-callable\u001b[0m\u001b[0;34m\u001b[0m\u001b[0;34m\u001b[0m\u001b[0m\n\u001b[0m\u001b[1;32m    918\u001b[0m     \u001b[0;32melif\u001b[0m \u001b[0mself\u001b[0m\u001b[0;34m.\u001b[0m\u001b[0m_stateful_fn\u001b[0m \u001b[0;32mis\u001b[0m \u001b[0;32mnot\u001b[0m \u001b[0;32mNone\u001b[0m\u001b[0;34m:\u001b[0m\u001b[0;34m\u001b[0m\u001b[0;34m\u001b[0m\u001b[0m\n\u001b[1;32m    919\u001b[0m       \u001b[0;31m# Release the lock early so that multiple threads can perform the call\u001b[0m\u001b[0;34m\u001b[0m\u001b[0;34m\u001b[0m\u001b[0m\n",
      "\u001b[0;32m~/miniforge3/envs/tensorflow/lib/python3.9/site-packages/tensorflow/python/eager/function.py\u001b[0m in \u001b[0;36m__call__\u001b[0;34m(self, *args, **kwargs)\u001b[0m\n\u001b[1;32m   3021\u001b[0m       (graph_function,\n\u001b[1;32m   3022\u001b[0m        filtered_flat_args) = self._maybe_define_function(args, kwargs)\n\u001b[0;32m-> 3023\u001b[0;31m     return graph_function._call_flat(\n\u001b[0m\u001b[1;32m   3024\u001b[0m         filtered_flat_args, captured_inputs=graph_function.captured_inputs)  # pylint: disable=protected-access\n\u001b[1;32m   3025\u001b[0m \u001b[0;34m\u001b[0m\u001b[0m\n",
      "\u001b[0;32m~/miniforge3/envs/tensorflow/lib/python3.9/site-packages/tensorflow/python/eager/function.py\u001b[0m in \u001b[0;36m_call_flat\u001b[0;34m(self, args, captured_inputs, cancellation_manager)\u001b[0m\n\u001b[1;32m   1958\u001b[0m         and executing_eagerly):\n\u001b[1;32m   1959\u001b[0m       \u001b[0;31m# No tape is watching; skip to running the function.\u001b[0m\u001b[0;34m\u001b[0m\u001b[0;34m\u001b[0m\u001b[0m\n\u001b[0;32m-> 1960\u001b[0;31m       return self._build_call_outputs(self._inference_function.call(\n\u001b[0m\u001b[1;32m   1961\u001b[0m           ctx, args, cancellation_manager=cancellation_manager))\n\u001b[1;32m   1962\u001b[0m     forward_backward = self._select_forward_and_backward_functions(\n",
      "\u001b[0;32m~/miniforge3/envs/tensorflow/lib/python3.9/site-packages/tensorflow/python/eager/function.py\u001b[0m in \u001b[0;36mcall\u001b[0;34m(self, ctx, args, cancellation_manager)\u001b[0m\n\u001b[1;32m    589\u001b[0m       \u001b[0;32mwith\u001b[0m \u001b[0m_InterpolateFunctionError\u001b[0m\u001b[0;34m(\u001b[0m\u001b[0mself\u001b[0m\u001b[0;34m)\u001b[0m\u001b[0;34m:\u001b[0m\u001b[0;34m\u001b[0m\u001b[0;34m\u001b[0m\u001b[0m\n\u001b[1;32m    590\u001b[0m         \u001b[0;32mif\u001b[0m \u001b[0mcancellation_manager\u001b[0m \u001b[0;32mis\u001b[0m \u001b[0;32mNone\u001b[0m\u001b[0;34m:\u001b[0m\u001b[0;34m\u001b[0m\u001b[0;34m\u001b[0m\u001b[0m\n\u001b[0;32m--> 591\u001b[0;31m           outputs = execute.execute(\n\u001b[0m\u001b[1;32m    592\u001b[0m               \u001b[0mstr\u001b[0m\u001b[0;34m(\u001b[0m\u001b[0mself\u001b[0m\u001b[0;34m.\u001b[0m\u001b[0msignature\u001b[0m\u001b[0;34m.\u001b[0m\u001b[0mname\u001b[0m\u001b[0;34m)\u001b[0m\u001b[0;34m,\u001b[0m\u001b[0;34m\u001b[0m\u001b[0;34m\u001b[0m\u001b[0m\n\u001b[1;32m    593\u001b[0m               \u001b[0mnum_outputs\u001b[0m\u001b[0;34m=\u001b[0m\u001b[0mself\u001b[0m\u001b[0;34m.\u001b[0m\u001b[0m_num_outputs\u001b[0m\u001b[0;34m,\u001b[0m\u001b[0;34m\u001b[0m\u001b[0;34m\u001b[0m\u001b[0m\n",
      "\u001b[0;32m~/miniforge3/envs/tensorflow/lib/python3.9/site-packages/tensorflow/python/eager/execute.py\u001b[0m in \u001b[0;36mquick_execute\u001b[0;34m(op_name, num_outputs, inputs, attrs, ctx, name)\u001b[0m\n\u001b[1;32m     57\u001b[0m   \u001b[0;32mtry\u001b[0m\u001b[0;34m:\u001b[0m\u001b[0;34m\u001b[0m\u001b[0;34m\u001b[0m\u001b[0m\n\u001b[1;32m     58\u001b[0m     \u001b[0mctx\u001b[0m\u001b[0;34m.\u001b[0m\u001b[0mensure_initialized\u001b[0m\u001b[0;34m(\u001b[0m\u001b[0;34m)\u001b[0m\u001b[0;34m\u001b[0m\u001b[0;34m\u001b[0m\u001b[0m\n\u001b[0;32m---> 59\u001b[0;31m     tensors = pywrap_tfe.TFE_Py_Execute(ctx._handle, device_name, op_name,\n\u001b[0m\u001b[1;32m     60\u001b[0m                                         inputs, attrs, num_outputs)\n\u001b[1;32m     61\u001b[0m   \u001b[0;32mexcept\u001b[0m \u001b[0mcore\u001b[0m\u001b[0;34m.\u001b[0m\u001b[0m_NotOkStatusException\u001b[0m \u001b[0;32mas\u001b[0m \u001b[0me\u001b[0m\u001b[0;34m:\u001b[0m\u001b[0;34m\u001b[0m\u001b[0;34m\u001b[0m\u001b[0m\n",
      "\u001b[0;31mKeyboardInterrupt\u001b[0m: "
     ]
    }
   ],
   "source": [
    "datagen = ImageDataGenerator(horizontal_flip=True, vertical_flip=True, rotation_range=20, zoom_range=0.2,\n",
    "                             width_shift_range=0.2, height_shift_range=0.2, shear_range=0.1, fill_mode=\"nearest\")\n",
    "\n",
    "pretrained_model = tf.keras.applications.DenseNet121(input_shape=(\n",
    "    IMAGE_HEIGHT, IMAGE_WIDTH, 3), include_top=False, weights='imagenet', pooling='avg')\n",
    "\n",
    "pretrained_model.trainable = False\n",
    "\n",
    "inputs = pretrained_model.input\n",
    "x3 = tf.keras.layers.Dense(128, activation='relu')(pretrained_model.output)\n",
    "outputs = tf.keras.layers.Dense(37, activation='softmax')(x3)\n",
    "model = tf.keras.Model(inputs=inputs, outputs=outputs)\n",
    "\n",
    "model.compile(optimizer='adam', loss='categorical_crossentropy',\n",
    "              metrics=['accuracy'])\n",
    "\n",
    "his = model.fit(datagen.flow(trainx, trainy, batch_size=32),\n",
    "                validation_data=(testx, testy), epochs=EPOCH_CNT)"
   ]
  },
  {
   "cell_type": "markdown",
   "metadata": {},
   "source": [
    "## Model Fitness\n",
    "\n",
    "In order to fathom the efficiency and as to how our newly born model performs we will be using a couple of built-in modules and functions from the Sklearn package. \n",
    "Previously the trained model is stored in the \"his\" variable. After going through the various learning cycles its accuracy and loss data are then stored in sepperate new variables and are then plotted in the next section. "
   ]
  },
  {
   "cell_type": "code",
   "execution_count": 5,
   "metadata": {},
   "outputs": [
    {
     "name": "stderr",
     "output_type": "stream",
     "text": [
      "2021-11-15 11:45:03.684704: I tensorflow/core/grappler/optimizers/custom_graph_optimizer_registry.cc:112] Plugin optimizer for device_type GPU is enabled.\n"
     ]
    },
    {
     "name": "stdout",
     "output_type": "stream",
     "text": [
      "              precision    recall  f1-score   support\n",
      "\n",
      "           0       0.84      0.95      0.89        22\n",
      "           1       1.00      0.97      0.98        33\n",
      "           2       1.00      1.00      1.00        29\n",
      "           3       0.88      0.74      0.81        31\n",
      "           4       0.83      0.74      0.78        27\n",
      "           5       0.90      0.97      0.93        36\n",
      "           6       0.85      0.57      0.69        40\n",
      "           7       0.88      0.72      0.79        32\n",
      "           8       0.92      0.90      0.91        39\n",
      "           9       1.00      1.00      1.00        30\n",
      "          10       0.94      0.94      0.94        31\n",
      "          11       1.00      0.84      0.91        31\n",
      "          12       0.91      0.75      0.82        28\n",
      "          13       1.00      0.97      0.99        35\n",
      "          14       0.75      0.77      0.76        35\n",
      "          15       0.80      0.94      0.86        34\n",
      "          16       0.94      0.88      0.91        33\n",
      "          17       0.88      0.94      0.91        31\n",
      "          18       0.97      0.97      0.97        30\n",
      "          19       0.86      0.93      0.89        40\n",
      "          20       0.89      0.91      0.90        35\n",
      "          21       0.91      0.89      0.90        35\n",
      "          22       0.93      0.88      0.90        32\n",
      "          23       0.87      0.90      0.89        30\n",
      "          24       1.00      0.96      0.98        25\n",
      "          25       0.79      1.00      0.88        22\n",
      "          26       0.47      0.97      0.64        29\n",
      "          27       1.00      0.97      0.98        31\n",
      "          28       0.97      0.97      0.97        31\n",
      "          29       0.93      0.93      0.93        29\n",
      "          30       0.97      0.95      0.96        37\n",
      "          31       0.90      0.92      0.91        39\n",
      "          32       0.97      0.88      0.93        42\n",
      "          33       1.00      0.97      0.99        34\n",
      "          34       0.90      0.84      0.87        31\n",
      "          35       1.00      1.00      1.00        21\n",
      "          36       0.96      0.89      0.93        28\n",
      "\n",
      "    accuracy                           0.90      1178\n",
      "   macro avg       0.91      0.90      0.90      1178\n",
      "weighted avg       0.91      0.90      0.90      1178\n",
      "\n"
     ]
    }
   ],
   "source": [
    "y_pred = model.predict(testx)\n",
    "pred = np.argmax(y_pred, axis=1)\n",
    "ground = np.argmax(testy, axis=1)\n",
    "print(classification_report(ground, pred))\n",
    "\n",
    "get_acc = his.history['accuracy']\n",
    "value_acc = his.history['val_accuracy']\n",
    "get_loss = his.history['loss']\n",
    "validation_loss = his.history['val_loss']"
   ]
  },
  {
   "cell_type": "markdown",
   "metadata": {},
   "source": [
    "## Accuracy"
   ]
  },
  {
   "cell_type": "code",
   "execution_count": 6,
   "metadata": {},
   "outputs": [
    {
     "data": {
      "image/png": "[encoded data removed]",
      "text/plain": [
       "<Figure size 432x288 with 1 Axes>"
      ]
     },
     "metadata": {
      "needs_background": "light"
     },
     "output_type": "display_data"
    },
    {
     "data": {
      "text/plain": [
       "<Figure size 432x288 with 0 Axes>"
      ]
     },
     "metadata": {},
     "output_type": "display_data"
    }
   ],
   "source": [
    "epochs = range(len(get_acc))\n",
    "plt.plot(epochs, get_acc, 'r', label='Accuracy of Training data')\n",
    "plt.plot(epochs, value_acc, 'b', label='Accuracy of Validation data')\n",
    "plt.title('Training vs validation accuracy')\n",
    "plt.legend(loc=0)\n",
    "plt.figure()\n",
    "plt.show()"
   ]
  },
  {
   "cell_type": "markdown",
   "metadata": {},
   "source": [
    "## Loss"
   ]
  },
  {
   "cell_type": "code",
   "execution_count": 7,
   "metadata": {},
   "outputs": [
    {
     "data": {
      "image/png": "[encoded data removed]",
      "text/plain": [
       "<Figure size 432x288 with 1 Axes>"
      ]
     },
     "metadata": {
      "needs_background": "light"
     },
     "output_type": "display_data"
    },
    {
     "data": {
      "text/plain": [
       "<Figure size 432x288 with 0 Axes>"
      ]
     },
     "metadata": {},
     "output_type": "display_data"
    }
   ],
   "source": [
    "epochs = range(len(get_loss))\n",
    "plt.plot(epochs, get_loss, 'r', label='Loss of Training data')\n",
    "plt.plot(epochs, validation_loss, 'b', label='Loss of Validation data')\n",
    "plt.title('Training vs validation loss')\n",
    "plt.legend(loc=0)\n",
    "plt.figure()\n",
    "plt.show()"
   ]
  },
  {
   "cell_type": "markdown",
   "metadata": {},
   "source": [
    "## Proof testing"
   ]
  },
  {
   "cell_type": "markdown",
   "metadata": {},
   "source": [
    "This section is quite possibly the most gratifying part of this entire project. Sometimes at least. \n",
    "Firstly, we declare the reverse mapping of breeds (see #Setup) to then map the different representations of breeds - using integers - to their respective indeces. A random is then loaded in and passed to the model."
   ]
  },
  {
   "cell_type": "code",
   "execution_count": 9,
   "metadata": {},
   "outputs": [
    {
     "name": "stdout",
     "output_type": "stream",
     "text": [
      "Metal device set to: Apple M1 Pro\n",
      "\n",
      "systemMemory: 16.00 GB\n",
      "maxCacheSize: 5.33 GB\n",
      "\n"
     ]
    },
    {
     "name": "stderr",
     "output_type": "stream",
     "text": [
      "2021-11-18 16:09:12.072926: I tensorflow/core/common_runtime/pluggable_device/pluggable_device_factory.cc:305] Could not identify NUMA node of platform GPU ID 0, defaulting to 0. Your kernel may not have been built with NUMA support.\n",
      "2021-11-18 16:09:12.073296: I tensorflow/core/common_runtime/pluggable_device/pluggable_device_factory.cc:271] Created TensorFlow device (/job:localhost/replica:0/task:0/device:GPU:0 with 0 MB memory) -> physical PluggableDevice (device: 0, name: METAL, pci bus id: <undefined>)\n"
     ]
    }
   ],
   "source": [
    "reverse_mapping=mapping={\n",
    "\t 0: \"abyssinian\",\n",
    "    1: \"american_bulldog\",\n",
    "    2: \"american_pit_bull_terrier\",\n",
    "    3: \"basset_hound\",\n",
    "    4: \"beagle\",\n",
    "    5: \"bengal\",\n",
    "    6: \"birman\",\n",
    "    7: \"bombay\",\n",
    "    8: \"boxer\",\n",
    "    9: \"british_shorthair\",\n",
    "    10: \"chihuahua\",\n",
    "    11: \"egyptian_mau\",\n",
    "    12: \"english_cocker_spaniel\",\n",
    "    13: \"english_setter\",\n",
    "    14: \"german_shorthaired\",\n",
    "    15: \"great_pyrenees\",\n",
    "    16: \"havanese\",\n",
    "    17: \"japanese_chin\",\n",
    "    18: \"keeshond\",\n",
    "    19: \"leonberger\",\n",
    "    20: \"maine_coon\",\n",
    "    21: \"miniature_pinscher\",\n",
    "    22: \"newfoundland\",\n",
    "    23: \"persian\",\n",
    "    24: \"pomeranian\",\n",
    "    25: \"pug\",\n",
    "    26: \"ragdoll\",\n",
    "    27: \"russian_blue\",\n",
    "    28: \"saint_bernard\",\n",
    "    29: \"samoyed\",\n",
    "    30: \"scottish_terrier\",\n",
    "    31: \"shiba_inu\",\n",
    "    32: \"siamese\",\n",
    "    33: \"sphynx\",\n",
    "    34: \"staffordshire_bull_terrier\",\n",
    "    35: \"wheaten_terrier\",\n",
    "    36: \"yorkshire_terrier\",\n",
    "}\n",
    "image=load_img(\"breeds/TEST/1002.jpg\",target_size=(256,256))\n",
    "image\n",
    "\n",
    "model = keras.models.load_model('models/model1.h5')\n",
    "\n",
    "\n",
    "image=img_to_array(image) \n",
    "image=image/255.0\n",
    "prediction_image=np.array(image)\n",
    "prediction_image= np.expand_dims(image, axis=0)\n",
    "\n",
    "def mapper(value):\n",
    "    return reverse_mapping[value]"
   ]
  },
  {
   "cell_type": "markdown",
   "metadata": {},
   "source": [
    "## Prediction"
   ]
  },
  {
   "cell_type": "code",
   "execution_count": 10,
   "metadata": {},
   "outputs": [
    {
     "name": "stdout",
     "output_type": "stream",
     "text": [
      "[[[[0.18431373 0.16862746 0.17254902]\n",
      "   [0.1882353  0.18039216 0.18431373]\n",
      "   [0.19215687 0.1764706  0.17254902]\n",
      "   ...\n",
      "   [0.15686275 0.15686275 0.1882353 ]\n",
      "   [0.14901961 0.15294118 0.17254902]\n",
      "   [0.14901961 0.14509805 0.16470589]]\n",
      "\n",
      "  [[0.18039216 0.16078432 0.18431373]\n",
      "   [0.1764706  0.16862746 0.1882353 ]\n",
      "   [0.1764706  0.1764706  0.18431373]\n",
      "   ...\n",
      "   [0.1764706  0.15294118 0.19215687]\n",
      "   [0.16078432 0.14901961 0.1764706 ]\n",
      "   [0.16078432 0.14901961 0.1764706 ]]\n",
      "\n",
      "  [[0.1882353  0.16470589 0.16470589]\n",
      "   [0.18039216 0.17254902 0.1764706 ]\n",
      "   [0.16470589 0.16078432 0.18431373]\n",
      "   ...\n",
      "   [0.17254902 0.16078432 0.1882353 ]\n",
      "   [0.15686275 0.16078432 0.18039216]\n",
      "   [0.15294118 0.15294118 0.18431373]]\n",
      "\n",
      "  ...\n",
      "\n",
      "  [[0.25490198 0.15294118 0.16470589]\n",
      "   [0.27058825 0.21568628 0.20392157]\n",
      "   [0.25490198 0.20784314 0.20784314]\n",
      "   ...\n",
      "   [0.08627451 0.05490196 0.04705882]\n",
      "   [0.09803922 0.07058824 0.03921569]\n",
      "   [0.21960784 0.16470589 0.16078432]]\n",
      "\n",
      "  [[0.3764706  0.29803923 0.30588236]\n",
      "   [0.24313726 0.16078432 0.15686275]\n",
      "   [0.15294118 0.11372549 0.14509805]\n",
      "   ...\n",
      "   [0.16078432 0.13725491 0.15294118]\n",
      "   [0.08235294 0.05098039 0.04313726]\n",
      "   [0.09803922 0.05882353 0.09019608]]\n",
      "\n",
      "  [[0.19215687 0.1882353  0.18039216]\n",
      "   [0.34117648 0.3137255  0.28235295]\n",
      "   [0.23921569 0.1882353  0.15294118]\n",
      "   ...\n",
      "   [0.0627451  0.0627451  0.09411765]\n",
      "   [0.07450981 0.07450981 0.07450981]\n",
      "   [0.07843138 0.07450981 0.09803922]]]]\n"
     ]
    },
    {
     "name": "stderr",
     "output_type": "stream",
     "text": [
      "2021-11-18 16:09:17.320882: I tensorflow/compiler/mlir/mlir_graph_optimization_pass.cc:176] None of the MLIR Optimization Passes are enabled (registered 2)\n",
      "2021-11-18 16:09:17.323366: W tensorflow/core/platform/profile_utils/cpu_utils.cc:128] Failed to get CPU frequency: 0 Hz\n",
      "2021-11-18 16:09:17.666771: I tensorflow/core/grappler/optimizers/custom_graph_optimizer_registry.cc:112] Plugin optimizer for device_type GPU is enabled.\n"
     ]
    },
    {
     "name": "stdout",
     "output_type": "stream",
     "text": [
      "Prediction is Scottish_terrier.\n"
     ]
    }
   ],
   "source": [
    "# PREDICTION\n",
    "print(prediction_image)\n",
    "prediction=model.predict(prediction_image)\n",
    "value=np.argmax(prediction)\n",
    "move_name=mapper(value)\n",
    "print(f\"Prediction is {format(move_name).capitalize()}.\")"
   ]
  },
  {
   "cell_type": "markdown",
   "metadata": {},
   "source": [
    "## Serialisation"
   ]
  },
  {
   "cell_type": "markdown",
   "metadata": {},
   "source": [
    "In order to make use of the functionality of the model it will be serialised as well as converted into a model which is able to be interpreted by the aforementioned React app. The TensorflowJS converter module will split up the model into one model.json as well as various weight files which will add their respective weights to the breeds. After this is done and dusted it is ready to be pushed straight to github in order for the raw model.json file to receive GET-requests."
   ]
  },
  {
   "cell_type": "code",
   "execution_count": 10,
   "metadata": {},
   "outputs": [],
   "source": [
    "#Uncomment to save model & to export it to a tsjs compatible format.\n",
    "\n",
    "model.save('models/model1.h5')\n",
    "tfjs.converters.save_keras_model(model, 'models/tfjs')"
   ]
  },
  {
   "cell_type": "markdown",
   "metadata": {},
   "source": [
    "## Conclusion"
   ]
  },
  {
   "cell_type": "markdown",
   "metadata": {},
   "source": [
    "## Bronvermelding"
   ]
  }
 ],
 "metadata": {
  "interpreter": {
   "hash": "31f2aee4e71d21fbe5cf8b01ff0e069b9275f58929596ceb00d14d90e3e16cd6"
  },
  "kernelspec": {
   "display_name": "Python 3.9.5 64-bit",
   "name": "python3"
  },
  "language_info": {
   "codemirror_mode": {
    "name": "ipython",
    "version": 3
   },
   "file_extension": ".py",
   "mimetype": "text/x-python",
   "name": "python",
   "nbconvert_exporter": "python",
   "pygments_lexer": "ipython3",
   "version": "3.9.7"
  },
  "orig_nbformat": 4
 },
 "nbformat": 4,
 "nbformat_minor": 2
}
